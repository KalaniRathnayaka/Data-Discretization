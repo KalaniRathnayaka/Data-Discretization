{
  "nbformat": 4,
  "nbformat_minor": 0,
  "metadata": {
    "colab": {
      "provenance": []
    },
    "kernelspec": {
      "name": "python3",
      "display_name": "Python 3"
    },
    "language_info": {
      "name": "python"
    }
  },
  "cells": [
    {
      "cell_type": "code",
      "execution_count": 1,
      "metadata": {
        "id": "5kKABgpeQ2VL"
      },
      "outputs": [],
      "source": [
        "import pandas as pd"
      ]
    },
    {
      "cell_type": "code",
      "source": [
        "# Load the dataset\n",
        "df = pd.read_csv('employee_data.csv')\n",
        "print(\" Original Employee Data:\\n\", df)"
      ],
      "metadata": {
        "colab": {
          "base_uri": "https://localhost:8080/"
        },
        "id": "-4YChJ2HR5wh",
        "outputId": "3f94ddca-b070-4310-c192-1f5a72eae5ec"
      },
      "execution_count": 2,
      "outputs": [
        {
          "output_type": "stream",
          "name": "stdout",
          "text": [
            " Original Employee Data:\n",
            "    employee_id  age  salary\n",
            "0            1   24   28000\n",
            "1            2   31   45000\n",
            "2            3   40   62000\n",
            "3            4   29   39000\n",
            "4            5   55   85000\n",
            "5            6   63   91000\n",
            "6            7   36   58000\n",
            "7            8   22   25000\n"
          ]
        }
      ]
    },
    {
      "cell_type": "code",
      "source": [
        "# Define salary bins and corresponding labels\n",
        "salary_bins = [0, 30000, 60000, 100000]\n",
        "salary_labels = ['Low Income', 'Medium Income', 'High Income']"
      ],
      "metadata": {
        "id": "g1o_rZSdSGmc"
      },
      "execution_count": 3,
      "outputs": []
    },
    {
      "cell_type": "code",
      "source": [
        "# Apply discretization to 'salary'\n",
        "df['salary_level'] = pd.cut(df['salary'], bins=salary_bins, labels=salary_labels)"
      ],
      "metadata": {
        "id": "ywoMZFRJSNin"
      },
      "execution_count": 4,
      "outputs": []
    },
    {
      "cell_type": "code",
      "source": [
        "# Display the updated DataFrame\n",
        "print(\"\\n Employee Data with Salary Levels:\\n\", df[['salary', 'salary_level']])\n"
      ],
      "metadata": {
        "colab": {
          "base_uri": "https://localhost:8080/"
        },
        "id": "SSC3qjvKSVbP",
        "outputId": "b9608d79-687e-4815-cc8d-1e5a774bb1f5"
      },
      "execution_count": 5,
      "outputs": [
        {
          "output_type": "stream",
          "name": "stdout",
          "text": [
            "\n",
            " Employee Data with Salary Levels:\n",
            "    salary   salary_level\n",
            "0   28000     Low Income\n",
            "1   45000  Medium Income\n",
            "2   62000    High Income\n",
            "3   39000  Medium Income\n",
            "4   85000    High Income\n",
            "5   91000    High Income\n",
            "6   58000  Medium Income\n",
            "7   25000     Low Income\n"
          ]
        }
      ]
    }
  ]
}